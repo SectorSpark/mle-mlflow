{
 "cells": [
  {
   "cell_type": "code",
   "execution_count": 15,
   "id": "53c44a2e-035f-465c-9335-9569b851709b",
   "metadata": {},
   "outputs": [
    {
     "name": "stdout",
     "output_type": "stream",
     "text": [
      "Run id запуска: e0c8e671bd1a4b06bfbb1735c18dd83e\n"
     ]
    }
   ],
   "source": [
    "import os\n",
    "import mlflow\n",
    "\n",
    "# устанавливаем локальное хранилище для наших экспериментов\n",
    "mlflow.set_tracking_uri('file:./mlflow_experiments_store')\n",
    "\n",
    "# получаем id эксперимента по умолчанию\n",
    "experiment_id = mlflow.get_experiment_by_name(\"Default\").experiment_id\n",
    "\n",
    "# создаем тестовый артефакт (файл), если его нет\n",
    "artifact_file = \"test_artifact.txt\"\n",
    "with open(artifact_file, \"w\") as f:\n",
    "    f.write(\"This is a test artifact\")\n",
    "\n",
    "# логируем тестовую метрику и артефакт\n",
    "with mlflow.start_run(run_name='Default', experiment_id=experiment_id) as run:\n",
    "    run_id = run.info.run_id\n",
    "    mlflow.log_metric(\"test_metric\", 0)\n",
    "    mlflow.log_artifact(artifact_file, \"test_artifact\")\n",
    "\n",
    "print(f\"Run id запуска: {run_id}\")\n"
   ]
  },
  {
   "cell_type": "code",
   "execution_count": null,
   "id": "bee17ef2-7213-467f-81d3-078444e79de2",
   "metadata": {},
   "outputs": [],
   "source": []
  },
  {
   "cell_type": "code",
   "execution_count": 16,
   "id": "627b7cdb-b726-4ac9-bc58-af6a679f0c7e",
   "metadata": {},
   "outputs": [
    {
     "name": "stdout",
     "output_type": "stream",
     "text": [
      "test_metric\n"
     ]
    }
   ],
   "source": [
    "!ls mlflow_experiments_store/0/{run_id}/metrics"
   ]
  },
  {
   "cell_type": "code",
   "execution_count": 17,
   "id": "83a628b3-71c9-47d8-b36e-7ccde807cd80",
   "metadata": {},
   "outputs": [
    {
     "name": "stdout",
     "output_type": "stream",
     "text": [
      "This is a test artifact"
     ]
    }
   ],
   "source": [
    "!cat mlflow_experiments_store/0/{run_id}/artifacts/test_artifact/test_artifact.txt"
   ]
  },
  {
   "cell_type": "code",
   "execution_count": 18,
   "id": "b3d754ad-6fa1-422c-a3d1-cc46f3c25c47",
   "metadata": {},
   "outputs": [],
   "source": [
    "import os\n",
    "\n",
    "import mlflow\n",
    "\n",
    "mlflow.set_tracking_uri('http://0.0.0.0:5000')\n",
    "\n",
    "# получаем id эксперимента, который создаётся по умолчанию\n",
    "# эксперимент по умолчанию называется Default\n",
    "experiment_id = mlflow.get_experiment_by_name(\"Default\").experiment_id\n",
    "\n",
    "with mlflow.start_run(run_name=\"Default\", experiment_id=experiment_id) as run:\n",
    "    run_id = run.info.run_id\n",
    "    \n",
    "    mlflow.log_metric(\"test_metric_sqlite\", 0)\n",
    "    mlflow.log_artifact(\"test_artifact.txt\", \"test_artifact_sqlite\")\n",
    "\n",
    "# проверим, что наши данные сохранились в локальной папке, а также создалась база данных SQLite\n",
    "assert os.path.exists(\"mlflow_experiments_store_sqlite\")\n",
    "assert os.path.exists(\"mydb.sqlite\")"
   ]
  },
  {
   "cell_type": "code",
   "execution_count": null,
   "id": "b62393f8-ba08-4da7-a28f-86fd8bf50a9e",
   "metadata": {},
   "outputs": [],
   "source": []
  }
 ],
 "metadata": {
  "kernelspec": {
   "display_name": "Python 3 (ipykernel)",
   "language": "python",
   "name": "python3"
  },
  "language_info": {
   "codemirror_mode": {
    "name": "ipython",
    "version": 3
   },
   "file_extension": ".py",
   "mimetype": "text/x-python",
   "name": "python",
   "nbconvert_exporter": "python",
   "pygments_lexer": "ipython3",
   "version": "3.10.12"
  }
 },
 "nbformat": 4,
 "nbformat_minor": 5
}
